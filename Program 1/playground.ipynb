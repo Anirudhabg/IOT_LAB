{
 "cells": [
  {
   "cell_type": "markdown",
   "metadata": {},
   "source": [
    "# Read your name and print Hello message with name "
   ]
  },
  {
   "cell_type": "code",
   "execution_count": 1,
   "metadata": {},
   "outputs": [
    {
     "name": "stdout",
     "output_type": "stream",
     "text": [
      "Hello, John Wick\n"
     ]
    }
   ],
   "source": [
    "name = input(\"Enter your name: \")\n",
    "print(\"Hello, \" + name)"
   ]
  },
  {
   "cell_type": "markdown",
   "metadata": {},
   "source": [
    "# Read two numbers and print their sum, difference, product and division"
   ]
  },
  {
   "cell_type": "code",
   "execution_count": 2,
   "metadata": {},
   "outputs": [
    {
     "name": "stdout",
     "output_type": "stream",
     "text": [
      "Sum:  30 \n",
      "Difference:  -20 \n",
      "Product:  125 \n",
      "Division:  0.2\n"
     ]
    }
   ],
   "source": [
    "num1 = int(input(\"Enter num1: \"))\n",
    "num2 = int(input(\"Enter num2: \"))\n",
    "\n",
    "\n",
    "add = num1 + num2\n",
    "sub = num1 - num2\n",
    "mul = num1 * num2\n",
    "div = num1 / num2\n",
    "\n",
    "print(\"Sum: \", add, \"\\nDifference: \", sub, \"\\nProduct: \", mul, \"\\nDivision: \", div)"
   ]
  },
  {
   "cell_type": "markdown",
   "metadata": {},
   "source": [
    "# Word and character count of a given string"
   ]
  },
  {
   "cell_type": "code",
   "execution_count": 3,
   "metadata": {},
   "outputs": [
    {
     "name": "stdout",
     "output_type": "stream",
     "text": [
      "Word Count:  1 \n",
      "Character Count:  8\n"
     ]
    }
   ],
   "source": [
    "inputStr = input(\"Enter a String: \")\n",
    "\n",
    "wordCnt = len(inputStr.split())\n",
    "charCnt = len(inputStr)\n",
    "\n",
    "print(\"Word Count: \", wordCnt, \"\\nCharacter Count: \", charCnt)"
   ]
  },
  {
   "cell_type": "markdown",
   "metadata": {},
   "source": [
    "# Area of a given shape (rectangle, triangle and circle) reading shape and appropriate values from standard input"
   ]
  },
  {
   "cell_type": "code",
   "execution_count": 4,
   "metadata": {},
   "outputs": [
    {
     "name": "stdout",
     "output_type": "stream",
     "text": [
      "1 -> Rectangle, 2 -> Triangle, 3 -> Circle, 4 ->Exit\n",
      "Area of rectangle is:  36.0\n",
      "1 -> Rectangle, 2 -> Triangle, 3 -> Circle, 4 ->Exit\n",
      "Area of Triangle is:  25.0\n",
      "1 -> Rectangle, 2 -> Triangle, 3 -> Circle, 4 ->Exit\n",
      "Area of Circle is:  78.53981633974483\n",
      "1 -> Rectangle, 2 -> Triangle, 3 -> Circle, 4 ->Exit\n",
      "Invalid Choice\n",
      "1 -> Rectangle, 2 -> Triangle, 3 -> Circle, 4 ->Exit\n",
      "Exiting the program...\n"
     ]
    }
   ],
   "source": [
    "import math\n",
    "\n",
    "while(True):\n",
    "    print(\"1 -> Rectangle, 2 -> Triangle, 3 -> Circle, 4 ->Exit\")\n",
    "    opt = int(input(\"Enter your choice: \"))\n",
    "    if opt == 1:\n",
    "        l = float(input(\"Enter Length: \"))\n",
    "        w = float(input(\"Enter Width: \"))\n",
    "        area = l * w\n",
    "        print(\"Area of rectangle is: \", area)\n",
    "    elif opt == 2:\n",
    "        b = float(input(\"Enter Base: \"))\n",
    "        h = float(input(\"Enter Height: \"))\n",
    "        area = 0.5 * b * h\n",
    "        print(\"Area of Triangle is: \", area)\n",
    "    elif opt == 3:\n",
    "        r = float(input(\"Enter Radius: \"))\n",
    "        area = math.pi * r ** 2\n",
    "        print(\"Area of Circle is: \", area)\n",
    "    elif opt == 4:\n",
    "        print(\"Exiting the program...\")\n",
    "        break\n",
    "    else:\n",
    "        print(\"Invalid Choice\")\n"
   ]
  },
  {
   "cell_type": "markdown",
   "metadata": {},
   "source": [
    "# Print a name \"n\" times, where name and n are read from standard input, using for and while loops"
   ]
  },
  {
   "cell_type": "code",
   "execution_count": 5,
   "metadata": {},
   "outputs": [
    {
     "name": "stdout",
     "output_type": "stream",
     "text": [
      "Using for loop: \n",
      "John Wick\n",
      "John Wick\n",
      "Using while loop: \n",
      "John Wick\n",
      "John Wick\n"
     ]
    }
   ],
   "source": [
    "name = input(\"Enter your name: \")\n",
    "n = int(input(\"Enter number of times to print the name: \"))\n",
    "\n",
    "print(\"Using for loop: \")\n",
    "for i in range(n):\n",
    "    print(name)\n",
    "\n",
    "print(\"Using while loop: \")\n",
    "count = 0\n",
    "while count < n:\n",
    "    print(name)\n",
    "    count += 1"
   ]
  },
  {
   "cell_type": "markdown",
   "metadata": {},
   "source": [
    "# Handle Divided by Zero Exception"
   ]
  },
  {
   "cell_type": "code",
   "execution_count": 6,
   "metadata": {},
   "outputs": [
    {
     "name": "stdout",
     "output_type": "stream",
     "text": [
      "Error: division by zero\n"
     ]
    }
   ],
   "source": [
    "try:\n",
    "    ans = 10 / 0\n",
    "except ZeroDivisionError as e:\n",
    "    print(f\"Error: {e}\")"
   ]
  },
  {
   "cell_type": "markdown",
   "metadata": {},
   "source": [
    "# Print current time for 10 times with an interval of 10 seconds"
   ]
  },
  {
   "cell_type": "code",
   "execution_count": 7,
   "metadata": {},
   "outputs": [
    {
     "name": "stdout",
     "output_type": "stream",
     "text": [
      "Current time:  05:52:24\n",
      "Current time:  05:52:34\n",
      "Current time:  05:52:44\n",
      "Current time:  05:52:54\n",
      "Current time:  05:53:04\n",
      "Current time:  05:53:14\n",
      "Current time:  05:53:24\n",
      "Current time:  05:53:34\n",
      "Current time:  05:53:44\n",
      "Current time:  05:53:54\n"
     ]
    }
   ],
   "source": [
    "import time\n",
    "\n",
    "\n",
    "for i in range(10):\n",
    "    currTime = time.strftime(\"%H:%M:%S\")\n",
    "    print(\"Current time: \", currTime)\n",
    "    time.sleep(10)"
   ]
  },
  {
   "cell_type": "markdown",
   "metadata": {},
   "source": [
    "# Read a file line by line and print the word count of each line"
   ]
  },
  {
   "cell_type": "code",
   "execution_count": 7,
   "metadata": {},
   "outputs": [
    {
     "name": "stdout",
     "output_type": "stream",
     "text": [
      "Words at line  1  is:  1\n",
      "Words at line  2  is:  2\n"
     ]
    }
   ],
   "source": [
    "with open('info.txt', 'r') as file:\n",
    "    index = 1\n",
    "    for line in file:\n",
    "        words = line.split()\n",
    "        print(\"Words at line \", index, \" is: \", len(words))\n",
    "        index += 1"
   ]
  }
 ],
 "metadata": {
  "kernelspec": {
   "display_name": "Python 3",
   "language": "python",
   "name": "python3"
  },
  "language_info": {
   "codemirror_mode": {
    "name": "ipython",
    "version": 3
   },
   "file_extension": ".py",
   "mimetype": "text/x-python",
   "name": "python",
   "nbconvert_exporter": "python",
   "pygments_lexer": "ipython3",
   "version": "3.12.6"
  }
 },
 "nbformat": 4,
 "nbformat_minor": 2
}
